{
 "cells": [
  {
   "cell_type": "markdown",
   "metadata": {
    "colab_type": "text",
    "id": "U_AXjFhOOKmy"
   },
   "source": [
    "## Human Limb Parameter Estimation\n",
    "Notebook to estimate the human limb's kinematic parameters using the algorithm proposed in the paper.\n"
   ]
  },
  {
   "cell_type": "code",
   "execution_count": 2,
   "metadata": {
    "colab": {
     "base_uri": "https://localhost:8080/",
     "height": 34
    },
    "colab_type": "code",
    "executionInfo": {
     "elapsed": 1684,
     "status": "ok",
     "timestamp": 1593091042877,
     "user": {
      "displayName": "BioRehab Group",
      "photoUrl": "https://lh3.googleusercontent.com/a-/AOh14Ghmd8rqFs-HbuRuAstbzOf_PNe7jYdmZbVw4v5W=s64",
      "userId": "03075059442851631437"
     },
     "user_tz": -330
    },
    "id": "DKXWNE30VGjO",
    "outputId": "ad598ea9-87cb-4639-e545-553b8f019387"
   },
   "outputs": [
    {
     "name": "stdout",
     "output_type": "stream",
     "text": [
      "Populating the interactive namespace from numpy and matplotlib\n"
     ]
    }
   ],
   "source": [
    "%pylab inline"
   ]
  },
  {
   "cell_type": "code",
   "execution_count": 3,
   "metadata": {
    "colab": {},
    "colab_type": "code",
    "id": "Pgge0IWFXucA"
   },
   "outputs": [],
   "source": [
    "import sys\n",
    "import json\n",
    "import os\n",
    "\n",
    "sys.path.append(\"scripts\")"
   ]
  },
  {
   "cell_type": "code",
   "execution_count": 4,
   "metadata": {
    "colab": {},
    "colab_type": "code",
    "id": "SZzBDCvAVGj2"
   },
   "outputs": [],
   "source": [
    "import itertools\n",
    "import functools\n",
    "import pandas as pd\n",
    "import progressbar as pb"
   ]
  },
  {
   "cell_type": "code",
   "execution_count": 5,
   "metadata": {
    "colab": {},
    "colab_type": "code",
    "id": "qtdLBkVXc06G"
   },
   "outputs": [],
   "source": [
    "from areboest import run_calibration, normalize, generate_calib_data\n",
    "from areboest import estimate_limb_param, gen_polysine\n",
    "from areboest import get_random_humanparams, get_subject_calib_angles\n",
    "from areboest import get_all_params"
   ]
  },
  {
   "cell_type": "markdown",
   "metadata": {
    "colab_type": "text",
    "id": "fOv1NFVmVGku"
   },
   "source": [
    "### AREBO Estimation"
   ]
  },
  {
   "cell_type": "code",
   "execution_count": 6,
   "metadata": {
    "colab": {},
    "colab_type": "code",
    "id": "-lHWaYKQVGk3"
   },
   "outputs": [],
   "source": [
    "# AREBO parameters\n",
    "a = 27.0\n",
    "b = 20.0\n",
    "c = 10.0\n",
    "\n",
    "arebo_dh = [{'a': 0, 'al': +np.pi/2, 'd': 0, 't': 0},\n",
    "            {'a': a, 'al': 0,        'd': 0, 't': 0},\n",
    "            {'a': b, 'al': 0,        'd': 0, 't': 0},\n",
    "            {'a': 0, 'al': -np.pi/2, 'd': 0, 't': -np.pi/2},\n",
    "            {'a': 0, 'al': +np.pi/2, 'd': c, 't': +np.pi/2},\n",
    "            {'a': 0, 'al': 0,        'd': 0, 't': +np.pi/2}]"
   ]
  },
  {
   "cell_type": "code",
   "execution_count": null,
   "metadata": {
    "colab": {},
    "colab_type": "code",
    "id": "Do-RjgcbfwxD"
   },
   "outputs": [],
   "source": []
  },
  {
   "cell_type": "markdown",
   "metadata": {
    "colab_type": "text",
    "id": "N_vd9jHE9FlA"
   },
   "source": [
    "## Static Shoulder Position\n",
    "1. Generate a random set of 100 parameters for the human limb.\n",
    "2. Implement a set of 100 random calibration procedure for each parameter set for three different noise levels.\n",
    "3. Estimate the difference between the true parameter and the estimate parameter. "
   ]
  },
  {
   "cell_type": "code",
   "execution_count": 7,
   "metadata": {
    "colab": {},
    "colab_type": "code",
    "id": "RX_zLPsEDTQB"
   },
   "outputs": [],
   "source": [
    "# Number of human parameter values\n",
    "Np = 20\n",
    "\n",
    "# Number of calibration procedures\n",
    "Nc = 50\n",
    "\n",
    "# Number of different calibration durations\n",
    "Ncd = 3\n",
    "\n",
    "# Number of noise levels\n",
    "Nn = 3\n",
    "\n",
    "# Subject joint angle ranges for calibration\n",
    "pvrange = [0, 90]\n",
    "phrange = [-30, 30]\n",
    "prrange = [0]\n",
    "\n",
    "# Shoulder position ranges\n",
    "shpos_range = np.array([[-10, 10],\n",
    "                        [-10, 10],\n",
    "                        [10, 30]])\n",
    "\n",
    "# Upper-arm length ranges\n",
    "l_range = np.array([15, 20])\n",
    "\n",
    "# Different calibration durations\n",
    "calib_dur = np.array([1.0, 2.0, 5.0])\n",
    "\n",
    "# Noise levels\n",
    "angnoise = np.array([0.0, 1.0, 5.0]) * np.pi / 180.0\n",
    "\n",
    "# Time\n",
    "dt = 0.01\n",
    "T = calib_dur[-1]\n",
    "t = np.arange(0, T, dt)\n",
    "NT = len(t)\n",
    "\n",
    "# Human Arm parameters\n",
    "human_dh = [{'a': 0, 'al': +np.pi/2, 'd': 0,  't': 0},\n",
    "            {'a': 0, 'al': -np.pi/2, 'd': 0,  't': -np.pi/2},\n",
    "            {'a': 0, 'al': 0,        'd': 15, 't': -np.pi}]"
   ]
  },
  {
   "cell_type": "code",
   "execution_count": 8,
   "metadata": {
    "colab": {},
    "colab_type": "code",
    "id": "wVhUh6ikDTKd"
   },
   "outputs": [],
   "source": [
    "# Generate random human limb parameter sets\n",
    "sh_pos, l = get_random_humanparams(shpos_range, l_range, Np)\n",
    "\n",
    "# Generate random calibration movements\n",
    "ang_calib = [get_subject_calib_angles(t, pvrange, phrange)\n",
    "             for _n in range(Nc)]"
   ]
  },
  {
   "cell_type": "code",
   "execution_count": 9,
   "metadata": {
    "colab": {
     "base_uri": "https://localhost:8080/",
     "height": 122
    },
    "colab_type": "code",
    "executionInfo": {
     "elapsed": 4063886,
     "status": "ok",
     "timestamp": 1593090755095,
     "user": {
      "displayName": "BioRehab Group",
      "photoUrl": "https://lh3.googleusercontent.com/a-/AOh14Ghmd8rqFs-HbuRuAstbzOf_PNe7jYdmZbVw4v5W=s64",
      "userId": "03075059442851631437"
     },
     "user_tz": -330
    },
    "id": "3xOY9LHeDTEX",
    "outputId": "608851f9-b0e5-4963-f0c7-dd2d335e2af9"
   },
   "outputs": [
    {
     "name": "stderr",
     "output_type": "stream",
     "text": [
      "scripts\\arebo.py:84: RuntimeWarning: invalid value encountered in arccos:31:41)\n",
      "  ta3 = np.arccos(_n / _d)\n",
      "scripts\\arebo.py:90: RuntimeWarning: invalid value encountered in arccos\n",
      "  beta = np.arccos(_n / _d)\n",
      "[Elapsed Time: 0:46:59] |#################################### | (ETA:  0:00:00)\r"
     ]
    }
   ],
   "source": [
    "# define progress bar\n",
    "widgets = ['[', pb.Timer(), '] ', pb.Bar(), ' (', pb.ETA(), ')']\n",
    "bar = pb.ProgressBar(widgets=widgets, maxval=Np * Nc * Nn).start()\n",
    "\n",
    "cnt = -1\n",
    "for hp, angc, angn, _N in get_all_params(np.vstack((sh_pos, l)).T,\n",
    "                                         ang_calib, angnoise):\n",
    "    cnt += 1\n",
    "    # Generate calibration data\n",
    "    _shpos = np.tile(hp[1][:3], (NT, 1)).T\n",
    "    human_dh[2]['d'] = hp[1][3]\n",
    "    \n",
    "    calibdata = generate_calib_data(tv=angc[1][0], th=angc[1][1], tr=angc[1][2],\n",
    "                                    sh_pos=_shpos, uh=hp[1][3],\n",
    "                                    arebo_dh=arebo_dh, human_dh=human_dh,\n",
    "                                    noise=angn[1])\n",
    "    \n",
    "    # Save calibration data.\n",
    "    _fname = f\"est_data/calibdata_{hp[0]}_{angc[0]}_{angn[0]}.csv\"\n",
    "    calibdata.to_csv(path_or_buf=_fname, index=False)\n",
    "\n",
    "    # Update\n",
    "    bar.update(cnt)"
   ]
  },
  {
   "cell_type": "markdown",
   "metadata": {
    "colab_type": "text",
    "id": "_684-Xj2oInW"
   },
   "source": [
    "## Estimating human limb parameters"
   ]
  },
  {
   "cell_type": "code",
   "execution_count": 11,
   "metadata": {
    "colab": {
     "base_uri": "https://localhost:8080/",
     "height": 34
    },
    "colab_type": "code",
    "executionInfo": {
     "elapsed": 119270,
     "status": "ok",
     "timestamp": 1593091270531,
     "user": {
      "displayName": "BioRehab Group",
      "photoUrl": "https://lh3.googleusercontent.com/a-/AOh14Ghmd8rqFs-HbuRuAstbzOf_PNe7jYdmZbVw4v5W=s64",
      "userId": "03075059442851631437"
     },
     "user_tz": -330
    },
    "id": "ZXug_Np4DS_1",
    "outputId": "97aacc3d-87ea-4697-e404-4895a0dce36f"
   },
   "outputs": [
    {
     "name": "stderr",
     "output_type": "stream",
     "text": [
      "[Elapsed Time: 0:02:39] |#################################### | (ETA:  0:00:00)\r"
     ]
    }
   ],
   "source": [
    "# Read each calibration data file and estimate the human limb \n",
    "# parameters \n",
    "# define progress bar\n",
    "widgets = ['[', pb.Timer(), '] ', pb.Bar(), ' (', pb.ETA(), ')']\n",
    "bar = pb.ProgressBar(widgets=widgets, maxval=Np * Nc * Nn).start()\n",
    "\n",
    "# Data frame with the estimated parameters\n",
    "paramestdf = pd.DataFrame(columns=('shx', 'shy', 'shz', 'l', 'calibn', 'dur', 'noise',\n",
    "                                   'shxest', 'shyest', 'shzest', 'lest'))\n",
    "\n",
    "cnt = -1\n",
    "for hp, angc, angn, _N in get_all_params(np.vstack((sh_pos, l)).T,\n",
    "                                         ang_calib, angnoise):\n",
    "    cnt += 1\n",
    "    # Load calibration data.\n",
    "    _fname = f\"est_data/calibdata_{hp[0]}_{angc[0]}_{angn[0]}.csv\"\n",
    "    calibdata = pd.read_csv(_fname)\n",
    "\n",
    "    for cald in calib_dur:\n",
    "        N = int(cald / dt)\n",
    "        pest = estimate_limb_param(calibdata, N, N)\n",
    "        # Update estimated parameters\n",
    "        _dfrow = {\"shx\": [calibdata.iloc[0]['shx']],\n",
    "                  \"shy\": [calibdata.iloc[0]['shy']],\n",
    "                  \"shz\": [calibdata.iloc[0]['shz']],\n",
    "                  \"l\": [calibdata.iloc[0]['l']],\n",
    "                  \"calibn\": [angc[0]],\n",
    "                  'dur': [cald],\n",
    "                  'noise': [angn[1]],\n",
    "                  \"shxest\": [pest[1, 0]],\n",
    "                  \"shyest\": [pest[2, 0]],\n",
    "                  \"shzest\": [pest[3, 0]],\n",
    "                  \"lest\": [pest[0, 0]]\n",
    "                  }\n",
    "        paramestdf = paramestdf.append(pd.DataFrame.from_dict(_dfrow),\n",
    "                                           ignore_index=True)\n",
    "\n",
    "    # Update\n",
    "    bar.update(cnt)"
   ]
  },
  {
   "cell_type": "code",
   "execution_count": 12,
   "metadata": {
    "colab": {
     "base_uri": "https://localhost:8080/",
     "height": 225
    },
    "colab_type": "code",
    "executionInfo": {
     "elapsed": 3090,
     "status": "ok",
     "timestamp": 1593097094296,
     "user": {
      "displayName": "BioRehab Group",
      "photoUrl": "https://lh3.googleusercontent.com/a-/AOh14Ghmd8rqFs-HbuRuAstbzOf_PNe7jYdmZbVw4v5W=s64",
      "userId": "03075059442851631437"
     },
     "user_tz": -330
    },
    "id": "qMllW2L3B3Eg",
    "outputId": "e0c08fe3-ca24-44fd-f117-8b39d177f1c3"
   },
   "outputs": [
    {
     "data": {
      "image/png": "[encoded data removed]",
      "text/plain": [
       "<Figure size 1080x216 with 4 Axes>"
      ]
     },
     "metadata": {
      "needs_background": "light"
     },
     "output_type": "display_data"
    }
   ],
   "source": [
    "# Analysis for 0ifferent noise and durations\n",
    "_colors = [\"tab:blue\", \"tab:red\"]\n",
    "# _limsx = [[-0.5, 2.5], [-0.5, 1.5], [-0.5, 1.5]]\n",
    "dlim = 0.5\n",
    "_limsx = [-0.5, 1.5]  # [-1.0, 3.0]\n",
    "_limsy = [-0.5, 1.5]  # [-1.0, 3.0]\n",
    "_limsz = [-1.0, 0.5]  # [-2.0, 1.0]\n",
    "_limsl = [-2.0, 0.5]  # [-4.0, 1.0]\n",
    "_labels = [\"$\\sigma^2 = 1\\deg^2$\", \"$\\sigma^2 = 5\\deg^2$\"]\n",
    "fig = figure(figsize=(15, 3))\n",
    "# Calibration duration\n",
    "for ndur in range(2, 3):\n",
    "    durinx = paramestdf[\"dur\"] == calib_dur[ndur]\n",
    "    ax = fig.add_subplot(1, 4, 4 * (ndur - 2) + 1)\n",
    "    ax.grid(color='0.85', linestyle='-', linewidth=0.5)\n",
    "    for i, _noise in enumerate(angnoise[1:]):\n",
    "        inx = durinx & (paramestdf[\"noise\"] == _noise)\n",
    "        _data = np.array(paramestdf[inx]['shxest'] - paramestdf[inx]['shx'])\n",
    "        ax.hist(_data, bins=25, density=True, histtype='step', lw=2,\n",
    "                color=_colors[i], label=_labels[i])\n",
    "    ax.set_xlim(_limsx[0], _limsx[1])\n",
    "    xticks(np.arange(_limsx[0], _limsx[1] + dlim, dlim), fontsize=14)\n",
    "    yticks(fontsize=14)\n",
    "    ax.set_xlabel(\"Error (cm)\", fontsize=14)\n",
    "    ax.set_title(f\"$p_x$\", fontsize=16)\n",
    "    legend(loc=1, fontsize=14, frameon=False, ncol=1)\n",
    "\n",
    "    ax = fig.add_subplot(1, 4, 4 * (ndur - 2) + 2)\n",
    "    ax.grid(color='0.85', linestyle='-', linewidth=0.5)\n",
    "    for i, _noise in enumerate(angnoise[1:]):\n",
    "        inx = durinx & (paramestdf[\"noise\"] == _noise)\n",
    "        _data = np.array(paramestdf[inx]['shyest'] - paramestdf[inx]['shy'])\n",
    "        ax.hist(_data, bins=25, density=True, histtype='step', lw=2,\n",
    "                color=_colors[i], label=_labels[i])\n",
    "    ax.set_xlim(_limsy[0], _limsy[1])\n",
    "    xticks(np.arange(_limsy[0], _limsy[1] + dlim, dlim), fontsize=14)\n",
    "    yticks(fontsize=14)\n",
    "    ax.set_xlabel(\"Error (cm)\", fontsize=14)\n",
    "    ax.set_title(f\"$p_y$\", fontsize=16)\n",
    "    legend(loc=1, fontsize=14, frameon=False, ncol=1)\n",
    "        \n",
    "    ax = fig.add_subplot(1, 4, 4 * (ndur - 2) + 3)\n",
    "    ax.grid(color='0.85', linestyle='-', linewidth=0.5)\n",
    "    for i, _noise in enumerate(angnoise[1:]):\n",
    "        inx = durinx & (paramestdf[\"noise\"] == _noise)\n",
    "        _data = np.array(paramestdf[inx]['shzest'] - paramestdf[inx]['shz'])\n",
    "        ax.hist(_data, bins=25, density=True, histtype='step', lw=2,\n",
    "                color=_colors[i], label=_labels[i])\n",
    "    ax.set_xlim(_limsz[0], _limsz[1])\n",
    "    xticks(np.arange(_limsz[0], _limsz[1] + dlim, dlim), fontsize=14)\n",
    "    yticks(fontsize=14) \n",
    "    ax.set_xlabel(\"Error (cm)\", fontsize=14)\n",
    "    ax.set_title(f\"$p_z$\", fontsize=16)\n",
    "    legend(loc=2, fontsize=14, frameon=False, ncol=1)\n",
    "\n",
    "    ax = fig.add_subplot(1, 4, 4 * (ndur - 2) + 4)\n",
    "    ax.grid(color='0.85', linestyle='-', linewidth=0.5)\n",
    "    for i, _noise in enumerate(angnoise[1:]):\n",
    "        inx = durinx & (paramestdf[\"noise\"] == _noise)\n",
    "        _data = np.array(paramestdf[inx]['lest'] - paramestdf[inx]['l'])\n",
    "        ax.hist(_data, bins=25, density=True, histtype='step', lw=2,\n",
    "                color=_colors[i], label=_labels[i])\n",
    "    ax.set_xlim(_limsl[0], _limsl[1])\n",
    "    xticks(np.arange(_limsl[0], _limsl[1] + dlim, dlim), fontsize=14)\n",
    "    yticks(fontsize=14)\n",
    "    ax.set_xlabel(\"Error (cm)\", fontsize=14)\n",
    "    ax.set_title(f\"$l$\", fontsize=16)\n",
    "    legend(loc=2, fontsize=14, frameon=False, ncol=1)\n",
    "\n",
    "plt.tight_layout()\n",
    "\n",
    "fig.savefig(f\"est_data/img/est_static_param.svg\", format=\"svg\", dpi=300);\n",
    "fig.savefig(f\"est_data/img/est_static_param.png\", format=\"png\", dpi=300);"
   ]
  },
  {
   "cell_type": "code",
   "execution_count": 14,
   "metadata": {
    "colab": {
     "base_uri": "https://localhost:8080/",
     "height": 104
    },
    "colab_type": "code",
    "executionInfo": {
     "elapsed": 1412,
     "status": "ok",
     "timestamp": 1593101497995,
     "user": {
      "displayName": "BioRehab Group",
      "photoUrl": "https://lh3.googleusercontent.com/a-/AOh14Ghmd8rqFs-HbuRuAstbzOf_PNe7jYdmZbVw4v5W=s64",
      "userId": "03075059442851631437"
     },
     "user_tz": -330
    },
    "id": "ms_z2LJhBABP",
    "outputId": "29685ac4-bbe4-470d-bf20-37a4b687beea"
   },
   "outputs": [
    {
     "name": "stdout",
     "output_type": "stream",
     "text": [
      "Mean error (cm):  [-0.04131048  0.02548631  0.0255281  -0.00811453]\n"
     ]
    },
    {
     "data": {
      "text/plain": [
       "array([[ 1.805e-03, -9.580e-04, -1.025e-03, -5.800e-05],\n",
       "       [-9.580e-04,  1.162e-03,  6.390e-04, -5.700e-05],\n",
       "       [-1.025e-03,  6.390e-04,  1.212e-03, -4.700e-05],\n",
       "       [-5.800e-05, -5.700e-05, -4.700e-05,  4.580e-04]])"
      ]
     },
     "execution_count": 14,
     "metadata": {},
     "output_type": "execute_result"
    }
   ],
   "source": [
    "nnoise, ndur = 1, 2\n",
    "inx = ((paramestdf['dur'] == calib_dur[ndur]) &\n",
    "       (paramestdf['noise'] == angnoise[nnoise]))\n",
    "# Parameter estimates\n",
    "pest = np.array(paramestdf[inx][['lest', 'shxest', 'shyest', 'shzest']])\n",
    "pact = np.array(paramestdf[inx][['l', 'shx', 'shy', 'shz']])\n",
    "perr = pest - pact\n",
    "\n",
    "# Mean error\n",
    "errmean = np.mean(perr, axis=0)\n",
    "print(\"Mean error (cm): \", errmean)\n",
    "\n",
    "# Error covariance\n",
    "Cerr = ((perr - errmean).T @ (perr - errmean)) / len(pest)\n",
    "np.round(Cerr, decimals=6)"
   ]
  },
  {
   "cell_type": "code",
   "execution_count": 15,
   "metadata": {
    "colab": {
     "base_uri": "https://localhost:8080/",
     "height": 104
    },
    "colab_type": "code",
    "executionInfo": {
     "elapsed": 2063,
     "status": "ok",
     "timestamp": 1593101549605,
     "user": {
      "displayName": "BioRehab Group",
      "photoUrl": "https://lh3.googleusercontent.com/a-/AOh14Ghmd8rqFs-HbuRuAstbzOf_PNe7jYdmZbVw4v5W=s64",
      "userId": "03075059442851631437"
     },
     "user_tz": -330
    },
    "id": "nCB9fyKDPqFt",
    "outputId": "2454698b-6a06-4ded-8233-004ff7dc4e14"
   },
   "outputs": [
    {
     "name": "stdout",
     "output_type": "stream",
     "text": [
      "Mean error (cm):  [-0.89956734  0.52892774  0.56272894 -0.2175365 ]\n"
     ]
    },
    {
     "data": {
      "text/plain": [
       "array([[ 0.059589, -0.028721, -0.035078, -0.003623],\n",
       "       [-0.028721,  0.034449,  0.017559,  0.000279],\n",
       "       [-0.035078,  0.017559,  0.041191,  0.001325],\n",
       "       [-0.003623,  0.000279,  0.001325,  0.015919]])"
      ]
     },
     "execution_count": 15,
     "metadata": {},
     "output_type": "execute_result"
    }
   ],
   "source": [
    "nnoise, ndur = 2, 2\n",
    "inx = ((paramestdf['dur'] == calib_dur[ndur]) &\n",
    "       (paramestdf['noise'] == angnoise[nnoise]))\n",
    "# Parameter estimates\n",
    "pest = np.array(paramestdf[inx][['lest', 'shxest', 'shyest', 'shzest']])\n",
    "pact = np.array(paramestdf[inx][['l', 'shx', 'shy', 'shz']])\n",
    "perr = pest - pact\n",
    "\n",
    "# Mean error\n",
    "errmean = np.mean(perr, axis=0)\n",
    "print(\"Mean error (cm): \", errmean)\n",
    "\n",
    "# Error covariance\n",
    "Cerr = ((perr - errmean).T @ (perr - errmean)) / len(pest)\n",
    "np.round(Cerr, decimals=6)"
   ]
  }
 ],
 "metadata": {
  "colab": {
   "collapsed_sections": [],
   "name": "AREBO_HumanLimb_Estimation.ipynb",
   "provenance": []
  },
  "kernelspec": {
   "display_name": "Python 3",
   "language": "python",
   "name": "python3"
  },
  "language_info": {
   "codemirror_mode": {
    "name": "ipython",
    "version": 3
   },
   "file_extension": ".py",
   "mimetype": "text/x-python",
   "name": "python",
   "nbconvert_exporter": "python",
   "pygments_lexer": "ipython3",
   "version": "3.7.10"
  }
 },
 "nbformat": 4,
 "nbformat_minor": 1
}
